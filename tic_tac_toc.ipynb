{
  "cells": [
    {
      "cell_type": "markdown",
      "metadata": {
        "id": "jRWElJu1UznG"
      },
      "source": [
        "This project involves building a Tic Tac Toe game using Python without a graphical user interface (GUI).\n",
        "\n",
        "The game will be played on the `command line`, where the user will enter their `moves as text inputs`.\n",
        "\n",
        "The project will focus on implementing the game logic using Python's built-in data structures and control flow statements.\n",
        "\n",
        "The project will include designing the `game board as a list of lists`, implementing the game logic using if statements and loops, and creating a simple command-line interface using Python's input() function.\n",
        "\n",
        "The project will also involve `testing and debugging` the game to ensure that it functions correctly.\n",
        "\n",
        "The game of Tic Tac Toe is `played on a 3x3 grid`.\n",
        "\n",
        "The players take turns placing their symbol (either X or O) on the grid, with the goal of getting three in a row.\n",
        "\n",
        "The `game ends` when either one player `gets three in a row`, or the `grid is full without any player getting three in a row`, resulting in a `tie`.\n",
        "\n",
        "Here's a step-by-step decomposition of the game logic:\n",
        "\n",
        "Design the game board as a 3x3 list of lists.\n",
        "\n",
        "Each element in the list represents a square on the board and is initially set to an empty string.\n",
        "\n",
        "+ Create a `function to print the game board to the console``. `>>` This function should take the game board as a parameter and use loops to iterate through the rows and columns of the board, printing each square in the appropriate location.\n",
        "\n",
        "+ Create a `function to handle player moves`.` >>` This function should take the game board and the current player's symbol as parameters, prompt the player for their move (using input()), and update the game board with the player's symbol in the appropriate location.\n",
        "\n",
        "+ Create a `function to check for a win`. `>>` This function should take the game board and the current player's symbol as parameters and check if any of the rows, columns, or diagonals of the board contain three of the player's symbols in a row.\n",
        "\n",
        "+ Create a `function to check for a tie`. `>>` This function should take the game board as a parameter and check if every square on the board has been filled.\n",
        "\n",
        "+ Create a `main game loop` that alternates between the two players. `>>` In each iteration of the loop, print the current state of the game board, prompt the current player for their move, update the game board with the player's symbol, and check if the game has been won or tied.\n",
        "\n",
        "+ If the game has been won or tied, end the loop and print the appropriate message.\n",
        "\n",
        "+ Test the game by playing it and checking that it correctly handles player moves, checks for wins and ties, and prints the appropriate messages. Debug any issues that arise."
      ]
    },
    {
      "cell_type": "markdown",
      "source": [
        "# Old code"
      ],
      "metadata": {
        "id": "Jaorf-1ggWD5"
      }
    },
    {
      "cell_type": "code",
      "execution_count": null,
      "metadata": {
        "id": "bSSJdpPcUznM",
        "outputId": "57738901-e60d-4b14-f3f5-248144ea7034"
      },
      "outputs": [
        {
          "name": "stdout",
          "output_type": "stream",
          "text": [
            " |  | \n",
            "---------\n",
            " |  | \n",
            "---------\n",
            " |  | \n",
            "---------\n",
            "Player X!\n",
            "it's your turn.\n"
          ]
        },
        {
          "name": "stdout",
          "output_type": "stream",
          "text": [
            "X |  | \n",
            "---------\n",
            " |  | \n",
            "---------\n",
            " |  | \n",
            "---------\n",
            "Player O!\n",
            "it's your turn.\n",
            "X |  | \n",
            "---------\n",
            " | O | \n",
            "---------\n",
            " |  | \n",
            "---------\n",
            "Player X!\n",
            "it's your turn.\n",
            "X |  | \n",
            "---------\n",
            " | O | \n",
            "---------\n",
            " |  | X\n",
            "---------\n",
            "Player O!\n",
            "it's your turn.\n",
            "That square is already taken\n",
            "Please enter number.\n",
            "Please enter number.\n",
            "X | O | \n",
            "---------\n",
            " | O | \n",
            "---------\n",
            " |  | X\n",
            "---------\n",
            "Player X!\n",
            "it's your turn.\n",
            "X | O | X\n",
            "---------\n",
            " | O | \n",
            "---------\n",
            " |  | X\n",
            "---------\n",
            "Player O!\n",
            "it's your turn.\n",
            "X | O | X\n",
            "---------\n",
            "O | O | \n",
            "---------\n",
            " |  | X\n",
            "---------\n",
            "Player X!\n",
            "it's your turn.\n",
            "X | O | X\n",
            "---------\n",
            "O | O | X\n",
            "---------\n",
            " |  | X\n",
            "---------\n",
            "Player X wins!\n"
          ]
        }
      ],
      "source": [
        "# board as a 3x3 list of lists\n",
        "board = [['', '', ''],\n",
        "         ['', '', ''],\n",
        "         ['', '', '']]\n",
        "\n",
        "def print_board(board):\n",
        "    # function to print the game board\n",
        "    for row in board:\n",
        "        print(' | '.join(row))\n",
        "        print('-' * 9)\n",
        "\n",
        "def make_move(board, row, col, player_symbol):\n",
        "    # function to handle player moves\n",
        "    # wrong move\n",
        "    if row < 0 or row > 2 or col < 0 or col > 2:\n",
        "        return False\n",
        "    # correct move\n",
        "    if board[row][col] == '':\n",
        "        board[row][col] = player_symbol\n",
        "        return True\n",
        "    else:\n",
        "        return False\n",
        "\n",
        "def check_win(board, player_symbol):\n",
        "    #  function to check for a win\n",
        "    # check all squares in row is the same\n",
        "    for row in board:\n",
        "        if all(square == player_symbol for square in row):\n",
        "            return True\n",
        "    # check all squares in col is the same\n",
        "    for col in range(3):\n",
        "        if all(board[row][col] == player_symbol for row in range(3)):\n",
        "            return True\n",
        "    # check all squares in diagonal is the same\n",
        "    if all(board[i][i] == player_symbol for i in range(3)) or all(board[i][2 - i] == player_symbol for i in range(3)):\n",
        "        return True\n",
        "\n",
        "    return False\n",
        "\n",
        "def check_tie(board):\n",
        "    #  function to check for a tie\n",
        "    return all(all(square != '' for square in row) for row in board)\n",
        "\n",
        "\n",
        "def main():\n",
        "    #  main game loop\n",
        "    players = ['X', 'O'] # list of symbols\n",
        "    current_player = 0\n",
        "\n",
        "    while True:\n",
        "        print_board(board)\n",
        "        player_symbol = players[current_player] # get symbol of current player\n",
        "        print(f\"Player {player_symbol}!\\nit's your turn.\")\n",
        "\n",
        "        while True:\n",
        "            try:\n",
        "                # take position of symbol on board\n",
        "                row = int(input(\"Enter row (0, 1, 2): \"))\n",
        "                col = int(input(\"Enter column (0, 1, 2): \"))\n",
        "                # check validation of symbol on board\n",
        "                if make_move(board, row, col, player_symbol):\n",
        "                    break\n",
        "                else:\n",
        "                    print(\"That square is already taken\")\n",
        "            except ValueError:\n",
        "                print(\"Please enter number.\")\n",
        "\n",
        "        if check_win(board, player_symbol):\n",
        "            print_board(board)\n",
        "            print(f\"Player {player_symbol} wins!\")\n",
        "            break\n",
        "        elif check_tie(board):\n",
        "            print_board(board)\n",
        "            print(\"It's tie!\")\n",
        "            break\n",
        "        # switch between two players\n",
        "        current_player = 1 - current_player\n",
        "\n",
        "if __name__ == \"__main__\":\n",
        "    main()"
      ]
    },
    {
      "cell_type": "markdown",
      "source": [
        "# New code"
      ],
      "metadata": {
        "id": "xZmKOXyMgZ3M"
      }
    },
    {
      "cell_type": "markdown",
      "source": [
        "+ Comment 1: number the game table"
      ],
      "metadata": {
        "id": "588C-Rmogd82"
      }
    },
    {
      "cell_type": "code",
      "source": [
        "position= 9\n",
        "row= (position - 1) // 3\n",
        "col= (position - 1) % 3\n",
        "print(row, col)"
      ],
      "metadata": {
        "colab": {
          "base_uri": "https://localhost:8080/"
        },
        "id": "yMMjm820rjCL",
        "outputId": "02e3aea8-9030-42db-d2ec-4ef007eca067"
      },
      "execution_count": 17,
      "outputs": [
        {
          "output_type": "stream",
          "name": "stdout",
          "text": [
            "2 2\n"
          ]
        }
      ]
    },
    {
      "cell_type": "code",
      "source": [
        "def make_move(board, position, player_symbol):\n",
        "    # function to handle player moves\n",
        "    # wrong move\n",
        "    if position < 1 or position > 9:\n",
        "        return False\n",
        "    row= (position - 1) // 3\n",
        "    col= (position - 1) % 3\n",
        "    # correct move\n",
        "    if board[row][col] == '':\n",
        "        board[row][col] = player_symbol\n",
        "        return True\n",
        "    else:\n",
        "        return False"
      ],
      "metadata": {
        "id": "dsmUAhMprehX"
      },
      "execution_count": 18,
      "outputs": []
    },
    {
      "cell_type": "markdown",
      "source": [
        "+ Comment 2: ask player to choose x or o"
      ],
      "metadata": {
        "id": "3ejBey0jgvzM"
      }
    },
    {
      "cell_type": "code",
      "source": [
        "player_choice= input('Player 1, Enter X or Y: ').upper()\n",
        "while player_choice not in ['X', 'O']:\n",
        "  player_choice= input('Enter X or Y:').upper()"
      ],
      "metadata": {
        "colab": {
          "base_uri": "https://localhost:8080/"
        },
        "id": "HvrjJ2h-hAEB",
        "outputId": "e497aba2-e27c-4365-f612-8ede6b278215"
      },
      "execution_count": 4,
      "outputs": [
        {
          "name": "stdout",
          "output_type": "stream",
          "text": [
            "Player 1, Enter X or Y: e\n",
            "Enter X or Y:e\n",
            "Enter X or Y:w\n",
            "Enter X or Y:q\n",
            "Enter X or Y:3\n",
            "Enter X or Y:5\n",
            "Enter X or Y:x\n"
          ]
        }
      ]
    },
    {
      "cell_type": "markdown",
      "source": [
        "+ Comment 3: ask to play again or not"
      ],
      "metadata": {
        "id": "g4WX3866hDk0"
      }
    },
    {
      "cell_type": "code",
      "source": [
        "play_again= input(\"Do you want to play again? ( yes / no ): \").lower()\n",
        "while play_again not in ['yes', 'no']:\n",
        "  play_again= input(\"Enter 'yes' or 'not'\").lower()\n",
        "\n",
        "if play_again == 'yes':\n",
        "  print('call funcation main')\n",
        "else:\n",
        "  print(\"Developer is from Electro Pi family!\\nThank you for your time with us.\")"
      ],
      "metadata": {
        "colab": {
          "base_uri": "https://localhost:8080/"
        },
        "id": "rSyexm1YhIWj",
        "outputId": "0b9d2d1c-8556-4346-bcd1-66f485a87ad9"
      },
      "execution_count": 10,
      "outputs": [
        {
          "output_type": "stream",
          "name": "stdout",
          "text": [
            "Do you want to play again? ( yes / no ): fser\n",
            "Enter 'yes' or 'not'34edcd\n",
            "Enter 'yes' or 'not'NO\n",
            "Developer is from Electro Pi family!\n",
            "Thank you for your time with us.\n"
          ]
        }
      ]
    },
    {
      "cell_type": "markdown",
      "source": [
        "# Code after comments!"
      ],
      "metadata": {
        "id": "DR6hOHOUla83"
      }
    },
    {
      "cell_type": "code",
      "source": [
        "# board as a 3x3 list of lists\n",
        "board = [['', '', ''],\n",
        "         ['', '', ''],\n",
        "         ['', '', '']]\n",
        "\n",
        "def print_board(board):\n",
        "    # Function to print the game board\n",
        "    for row in board:\n",
        "        print(' | '.join(row))\n",
        "        print('-' * 9)\n",
        "\n",
        "def make_move(board, position, player_symbol):\n",
        "    # function to handle player moves\n",
        "    # wrong move\n",
        "    if position < 1 or position > 9:\n",
        "        return False\n",
        "    row= (position - 1) // 3\n",
        "    col= (position - 1) % 3\n",
        "    # correct move\n",
        "    if board[row][col] == '':\n",
        "        board[row][col] = player_symbol\n",
        "        return True\n",
        "    else:\n",
        "        return False\n",
        "\n",
        "def check_win(board, player_symbol):\n",
        "    #  function to check for a win\n",
        "    # check all squares in row is the same\n",
        "    for row in board:\n",
        "        if all(square == player_symbol for square in row):\n",
        "            return True\n",
        "    # check all squares in col is the same\n",
        "    for col in range(3):\n",
        "        if all(board[row][col] == player_symbol for row in range(3)):\n",
        "            return True\n",
        "    # check all squares in diagonal is the same\n",
        "    if all(board[i][i] == player_symbol for i in range(3)) or all(board[i][2 - i] == player_symbol for i in range(3)):\n",
        "        return True\n",
        "\n",
        "    return False\n",
        "\n",
        "def check_tie(board):\n",
        "    #  function to check for a tie\n",
        "    return all(all(square != '' for square in row) for row in board)\n",
        "\n",
        "def main():\n",
        "    #  main game loop\n",
        "    players = ['X', 'O'] # List of player symbols\n",
        "\n",
        "    # players choose X or O\n",
        "    player_choice= input('Player 1, Enter X or Y: ').upper()\n",
        "    while player_choice not in ['X', 'O']:\n",
        "      player_choice= input('Enter X or Y:').upper()\n",
        "\n",
        "    current_player = 0 if player_choice == 'X' else 1\n",
        "\n",
        "    while True:\n",
        "        print_board(board)\n",
        "        player_symbol = players[current_player] # Get symbol of current player\n",
        "        print(f\"Player {player_symbol}!\\nIt's your turn.\")\n",
        "\n",
        "        while True:\n",
        "            try:\n",
        "                # take position of symbol on board\n",
        "                position = int(input(\"Enter position (1 to 9): \"))\n",
        "                # check the validation of symbol on board\n",
        "                if make_move(board, position, player_symbol):\n",
        "                    break\n",
        "                else:\n",
        "                    print(\"That square is already taken\")\n",
        "            except ValueError:\n",
        "                print(\"Please enter a number.\")\n",
        "\n",
        "        if check_win(board, player_symbol):\n",
        "            print_board(board)\n",
        "            print(f\"Player {player_symbol} wins!\")\n",
        "            break\n",
        "        elif check_tie(board):\n",
        "            print_board(board)\n",
        "            print(\"It's a tie!\")\n",
        "            break\n",
        "        # switch between two players\n",
        "        current_player = 1 - current_player\n",
        "\n",
        "    # play again or not\n",
        "    play_again= input(\"Do you want to play again? ( yes / no ): \").lower()\n",
        "    while play_again not in ['yes', 'no']:\n",
        "      play_again= input(\"Enter 'yes' or 'not'\").lower()\n",
        "\n",
        "    if play_again == 'yes':\n",
        "      print('call funcation main')\n",
        "    else:\n",
        "      print(\"Developer is from Electro Pi family!\\nThank you for your time with us.\")\n",
        "\n",
        "if __name__ == \"__main__\":\n",
        "    main()\n"
      ],
      "metadata": {
        "colab": {
          "base_uri": "https://localhost:8080/"
        },
        "id": "t30wnQRdiR9D",
        "outputId": "d335dc3c-46aa-4224-903d-030114d7465c"
      },
      "execution_count": 22,
      "outputs": [
        {
          "output_type": "stream",
          "name": "stdout",
          "text": [
            "Player 1, Enter X or Y: dsf\n",
            "Enter X or Y:edx324\n",
            "Enter X or Y:x\n",
            " |  | \n",
            "---------\n",
            " |  | \n",
            "---------\n",
            " |  | \n",
            "---------\n",
            "Player X!\n",
            "It's your turn.\n",
            "Enter position (1 to 9): 5\n",
            " |  | \n",
            "---------\n",
            " | X | \n",
            "---------\n",
            " |  | \n",
            "---------\n",
            "Player O!\n",
            "It's your turn.\n",
            "Enter position (1 to 9): 2\n",
            " | O | \n",
            "---------\n",
            " | X | \n",
            "---------\n",
            " |  | \n",
            "---------\n",
            "Player X!\n",
            "It's your turn.\n",
            "Enter position (1 to 9): 9\n",
            " | O | \n",
            "---------\n",
            " | X | \n",
            "---------\n",
            " |  | X\n",
            "---------\n",
            "Player O!\n",
            "It's your turn.\n",
            "Enter position (1 to 9): 3\n",
            " | O | O\n",
            "---------\n",
            " | X | \n",
            "---------\n",
            " |  | X\n",
            "---------\n",
            "Player X!\n",
            "It's your turn.\n",
            "Enter position (1 to 9): 1\n",
            "X | O | O\n",
            "---------\n",
            " | X | \n",
            "---------\n",
            " |  | X\n",
            "---------\n",
            "Player X wins!\n",
            "Do you want to play again? ( yes / no ): rds\n",
            "Enter 'yes' or 'not'34ed\n",
            "Enter 'yes' or 'not'no\n",
            "Developer is from Electro Pi family!\n",
            "Thank you for your time with us.\n"
          ]
        }
      ]
    },
    {
      "cell_type": "code",
      "source": [],
      "metadata": {
        "id": "ZYWEXLKqoul2"
      },
      "execution_count": null,
      "outputs": []
    }
  ],
  "metadata": {
    "kernelspec": {
      "display_name": "Python 3",
      "language": "python",
      "name": "python3"
    },
    "language_info": {
      "codemirror_mode": {
        "name": "ipython",
        "version": 3
      },
      "file_extension": ".py",
      "mimetype": "text/x-python",
      "name": "python",
      "nbconvert_exporter": "python",
      "pygments_lexer": "ipython3",
      "version": "3.11.4"
    },
    "orig_nbformat": 4,
    "colab": {
      "provenance": []
    }
  },
  "nbformat": 4,
  "nbformat_minor": 0
}